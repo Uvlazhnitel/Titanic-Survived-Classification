{
 "cells": [
  {
   "cell_type": "code",
   "execution_count": null,
   "metadata": {},
   "outputs": [],
   "source": [
    "import sys, os\n",
    "from pathlib import Path\n",
    "\n",
    "PROJECT_ROOT = Path(__file__).resolve().parents[1] if \"__file__\" in globals() else Path.cwd().parent\n",
    "sys.path.append(str(PROJECT_ROOT))           \n",
    "sys.path.append(str(PROJECT_ROOT / \"src\"))   \n",
    "\n",
    "print(\"PYTHONPATH patched:\", sys.path[-2:]) "
   ]
  },
  {
   "cell_type": "code",
   "execution_count": null,
   "metadata": {},
   "outputs": [],
   "source": [
    "import pandas as pd\n",
    "TARGET = \"Survived\" \n",
    "df_raw = pd.read_csv('../data/raw/Titanic-Dataset.csv')\n",
    "X = df_raw.drop(columns=[TARGET])\n",
    "y = df_raw[TARGET]"
   ]
  },
  {
   "cell_type": "code",
   "execution_count": null,
   "metadata": {},
   "outputs": [],
   "source": [
    "# Define numerical and categorical columns\n",
    "num_cols = [\"Age\", \"SibSp\", \"Parch\", \"Fare\"]\n",
    "cat_cols = [\"Sex\", \"Pclass\", \"Embarked\"]"
   ]
  },
  {
   "cell_type": "code",
   "execution_count": null,
   "metadata": {},
   "outputs": [],
   "source": [
    "from src.preprocessing import build_preprocessing\n",
    "# Build and fit the preprocessing pipeline\n",
    "preprocessing = build_preprocessing(num_cols, cat_cols, remainder=\"drop\")\n",
    "Xt = preprocessing.fit_transform(X) \n",
    "Xt.shape"
   ]
  },
  {
   "cell_type": "code",
   "execution_count": null,
   "metadata": {},
   "outputs": [],
   "source": [
    "feature_names = preprocessing.get_feature_names_out()\n",
    "len(feature_names), feature_names[:12]  # Display feature names"
   ]
  },
  {
   "cell_type": "code",
   "execution_count": null,
   "metadata": {},
   "outputs": [],
   "source": [
    "# Test transformation on new sample data with unseen category\n",
    "X_sample = X.iloc[:2].copy()\n",
    "if \"Embarked\" in cat_cols:\n",
    "    X_sample.loc[X_sample.index[0], \"Embarked\"] = \"NEW_PORT\" \n",
    "\n",
    "Xt_sample = preprocessing.transform(X_sample)  \n",
    "Xt_sample.shape"
   ]
  },
  {
   "cell_type": "code",
   "execution_count": null,
   "metadata": {},
   "outputs": [],
   "source": [
    "from sklearn.pipeline import Pipeline\n",
    "from sklearn.linear_model import LogisticRegression\n",
    "\n",
    "# Build a full pipeline with preprocessing and model\n",
    "full_pipeline = Pipeline(steps=[\n",
    "    (\"preprocess\", preprocessing),\n",
    "    (\"model\", LogisticRegression(max_iter=1000))\n",
    "])\n",
    "\n",
    "full_pipeline.fit(X, y)\n"
   ]
  }
 ],
 "metadata": {
  "kernelspec": {
   "display_name": ".venv",
   "language": "python",
   "name": "python3"
  },
  "language_info": {
   "codemirror_mode": {
    "name": "ipython",
    "version": 3
   },
   "file_extension": ".py",
   "mimetype": "text/x-python",
   "name": "python",
   "nbconvert_exporter": "python",
   "pygments_lexer": "ipython3",
   "version": "3.11.14"
  }
 },
 "nbformat": 4,
 "nbformat_minor": 2
}
